{
  "cells": [
    {
      "cell_type": "code",
      "execution_count": null,
      "metadata": {
        "colab": {
          "base_uri": "https://localhost:8080/"
        },
        "id": "5yPWGwB17rXj",
        "outputId": "19227305-b98c-457e-ead6-f96858ab9692"
      },
      "outputs": [
        {
          "name": "stderr",
          "output_type": "stream",
          "text": [
            "2024-11-09 13:47:44.477596: I tensorflow/core/util/port.cc:153] oneDNN custom operations are on. You may see slightly different numerical results due to floating-point round-off errors from different computation orders. To turn them off, set the environment variable `TF_ENABLE_ONEDNN_OPTS=0`.\n",
            "2024-11-09 13:47:44.487263: E external/local_xla/xla/stream_executor/cuda/cuda_fft.cc:485] Unable to register cuFFT factory: Attempting to register factory for plugin cuFFT when one has already been registered\n",
            "2024-11-09 13:47:44.498658: E external/local_xla/xla/stream_executor/cuda/cuda_dnn.cc:8454] Unable to register cuDNN factory: Attempting to register factory for plugin cuDNN when one has already been registered\n",
            "2024-11-09 13:47:44.501996: E external/local_xla/xla/stream_executor/cuda/cuda_blas.cc:1452] Unable to register cuBLAS factory: Attempting to register factory for plugin cuBLAS when one has already been registered\n",
            "2024-11-09 13:47:44.510744: I tensorflow/core/platform/cpu_feature_guard.cc:210] This TensorFlow binary is optimized to use available CPU instructions in performance-critical operations.\n",
            "To enable the following instructions: AVX2 AVX512F AVX512_VNNI AVX512_BF16 AVX512_FP16 AVX_VNNI AMX_TILE AMX_INT8 AMX_BF16 FMA, in other operations, rebuild TensorFlow with the appropriate compiler flags.\n",
            "2024-11-09 13:47:47.776172: W tensorflow/compiler/tf2tensorrt/utils/py_utils.cc:38] TF-TRT Warning: Could not find TensorRT\n"
          ]
        }
      ],
      "source": [
        "import torch\n",
        "from transformers import pipeline\n",
        "import pandas as pd\n",
        "from tqdm.notebook import tqdm\n",
        "from torch.utils.data import Dataset\n",
        "\n",
        "\n",
        "model_id = \"NousResearch/Llama-3.2-1B\"\n",
        "pipe = pipeline(\"text-generation\",\n",
        "                model=model_id,\n",
        "                torch_dtype=torch.bfloat16,\n",
        "                device_map=\"auto\")\n",
        "\n",
        "eos_token_id = pipe.tokenizer.eos_token_id"
      ]
    },
    {
      "cell_type": "code",
      "execution_count": null,
      "metadata": {
        "id": "wpus7RCinlOu"
      },
      "outputs": [],
      "source": [
        "import ast\n",
        "from tqdm import tqdm\n",
        "\n",
        "defined_cats = [\"text mining\", \"computer vision\", \"both\", \"other\"]\n",
        "\n",
        "def generate(prompt):\n",
        "    result = pipe(prompt,\n",
        "                  max_new_tokens=10,\n",
        "                  return_full_text=False,\n",
        "                  eos_token_id=eos_token_id,\n",
        "                  pad_token_id=eos_token_id)\n",
        "    return result[0]['generated_text']\n",
        "\n",
        "def generate_batch(prompts):\n",
        "    results = pipe(prompts,\n",
        "                   max_new_tokens=10,\n",
        "                   return_full_text=False,\n",
        "                   eos_token_id=eos_token_id,\n",
        "                   pad_token_id=eos_token_id)\n",
        "\n",
        "    processed_results = []\n",
        "\n",
        "    for result in results:\n",
        "        try:\n",
        "            corrected_string = ast.literal_eval(result[0]['generated_text'] + '\"]')\n",
        "            result_list = corrected_string\n",
        "\n",
        "            if \"text mining\" in result_list and \"computer vision\" in result_list:\n",
        "                processed_results.append(\"both\")\n",
        "            else:\n",
        "                found_category = False\n",
        "                for each in result_list:\n",
        "                    if each in defined_cats:\n",
        "                        processed_results.append(each)\n",
        "                        found_category = True\n",
        "                        break\n",
        "                if not found_category:\n",
        "                    processed_results.append(\"not known\")\n",
        "        except (SyntaxError, ValueError) as e:\n",
        "            processed_results.append(\"error processing\")\n",
        "\n",
        "    return processed_results\n",
        "\n",
        "def inference(prompt_template, new_data, batch_size=16):\n",
        "    predictions = []\n",
        "    batch_prompts = []\n",
        "\n",
        "    for i in tqdm(range(new_data.shape[0])):\n",
        "        title = new_data[\"Title\"].tolist()[i]\n",
        "        abstract = new_data[\"Abstract\"].tolist()[i]\n",
        "        prompt = prompt_template.format(title=title, abstract=abstract)\n",
        "\n",
        "        batch_prompts.append(prompt)\n",
        "\n",
        "        if len(batch_prompts) == batch_size:\n",
        "            batch_predictions = generate_batch(batch_prompts)\n",
        "            predictions.extend(batch_predictions)\n",
        "            batch_prompts = []\n",
        "\n",
        "    if batch_prompts:\n",
        "        batch_predictions = generate_batch(batch_prompts)\n",
        "        predictions.extend(batch_predictions)\n",
        "    print(predictions)\n",
        "    return predictions"
      ]
    },
    {
      "cell_type": "code",
      "execution_count": null,
      "metadata": {
        "colab": {
          "base_uri": "https://localhost:8080/",
          "height": 317
        },
        "id": "UTGXmf8mpj2q",
        "outputId": "aa3e07cc-2e8d-4062-8d51-1a1faf40e7aa"
      },
      "outputs": [
        {
          "data": {
            "text/html": [
              "<div>\n",
              "<style scoped>\n",
              "    .dataframe tbody tr th:only-of-type {\n",
              "        vertical-align: middle;\n",
              "    }\n",
              "\n",
              "    .dataframe tbody tr th {\n",
              "        vertical-align: top;\n",
              "    }\n",
              "\n",
              "    .dataframe thead th {\n",
              "        text-align: right;\n",
              "    }\n",
              "</style>\n",
              "<table border=\"1\" class=\"dataframe\">\n",
              "  <thead>\n",
              "    <tr style=\"text-align: right;\">\n",
              "      <th></th>\n",
              "      <th>PMID</th>\n",
              "      <th>Title</th>\n",
              "      <th>Authors</th>\n",
              "      <th>Citation</th>\n",
              "      <th>First Author</th>\n",
              "      <th>Journal/Book</th>\n",
              "      <th>Publication Year</th>\n",
              "      <th>Create Date</th>\n",
              "      <th>PMCID</th>\n",
              "      <th>NIHMS ID</th>\n",
              "      <th>DOI</th>\n",
              "      <th>Abstract</th>\n",
              "    </tr>\n",
              "  </thead>\n",
              "  <tbody>\n",
              "    <tr>\n",
              "      <th>0</th>\n",
              "      <td>39435445</td>\n",
              "      <td>Editorial: The operationalization of cognitive...</td>\n",
              "      <td>Winter M, Probst T, Tallon M, Schobel J, Pryss R.</td>\n",
              "      <td>Front Neurosci. 2024 Oct 7;18:1501636. doi: 10...</td>\n",
              "      <td>Winter M</td>\n",
              "      <td>Front Neurosci</td>\n",
              "      <td>2024</td>\n",
              "      <td>2024/10/22</td>\n",
              "      <td>PMC11491427</td>\n",
              "      <td>NaN</td>\n",
              "      <td>10.3389/fnins.2024.1501636</td>\n",
              "      <td>NaN</td>\n",
              "    </tr>\n",
              "    <tr>\n",
              "      <th>1</th>\n",
              "      <td>39398866</td>\n",
              "      <td>Characterization of arteriosclerosis based on ...</td>\n",
              "      <td>Zhou J, Li X, Demeke D, Dinh TA, Yang Y, Janow...</td>\n",
              "      <td>J Med Imaging (Bellingham). 2024 Sep;11(5):057...</td>\n",
              "      <td>Zhou J</td>\n",
              "      <td>J Med Imaging (Bellingham)</td>\n",
              "      <td>2024</td>\n",
              "      <td>2024/10/14</td>\n",
              "      <td>PMC11466048</td>\n",
              "      <td>NaN</td>\n",
              "      <td>10.1117/1.JMI.11.5.057501</td>\n",
              "      <td>PURPOSE: Our purpose is to develop a computer ...</td>\n",
              "    </tr>\n",
              "    <tr>\n",
              "      <th>2</th>\n",
              "      <td>39390053</td>\n",
              "      <td>Multi-scale input layers and dense decoder agg...</td>\n",
              "      <td>Lan X, Jin W.</td>\n",
              "      <td>Sci Rep. 2024 Oct 10;14(1):23729. doi: 10.1038...</td>\n",
              "      <td>Lan X</td>\n",
              "      <td>Sci Rep</td>\n",
              "      <td>2024</td>\n",
              "      <td>2024/10/10</td>\n",
              "      <td>PMC11467340</td>\n",
              "      <td>NaN</td>\n",
              "      <td>10.1038/s41598-024-74701-0</td>\n",
              "      <td>Accurate segmentation of COVID-19 lesions from...</td>\n",
              "    </tr>\n",
              "  </tbody>\n",
              "</table>\n",
              "</div>"
            ],
            "text/plain": [
              "       PMID                                              Title  \\\n",
              "0  39435445  Editorial: The operationalization of cognitive...   \n",
              "1  39398866  Characterization of arteriosclerosis based on ...   \n",
              "2  39390053  Multi-scale input layers and dense decoder agg...   \n",
              "\n",
              "                                             Authors  \\\n",
              "0  Winter M, Probst T, Tallon M, Schobel J, Pryss R.   \n",
              "1  Zhou J, Li X, Demeke D, Dinh TA, Yang Y, Janow...   \n",
              "2                                      Lan X, Jin W.   \n",
              "\n",
              "                                            Citation First Author  \\\n",
              "0  Front Neurosci. 2024 Oct 7;18:1501636. doi: 10...     Winter M   \n",
              "1  J Med Imaging (Bellingham). 2024 Sep;11(5):057...       Zhou J   \n",
              "2  Sci Rep. 2024 Oct 10;14(1):23729. doi: 10.1038...        Lan X   \n",
              "\n",
              "                 Journal/Book  Publication Year Create Date        PMCID  \\\n",
              "0              Front Neurosci              2024  2024/10/22  PMC11491427   \n",
              "1  J Med Imaging (Bellingham)              2024  2024/10/14  PMC11466048   \n",
              "2                     Sci Rep              2024  2024/10/10  PMC11467340   \n",
              "\n",
              "  NIHMS ID                         DOI  \\\n",
              "0      NaN  10.3389/fnins.2024.1501636   \n",
              "1      NaN   10.1117/1.JMI.11.5.057501   \n",
              "2      NaN  10.1038/s41598-024-74701-0   \n",
              "\n",
              "                                            Abstract  \n",
              "0                                                NaN  \n",
              "1  PURPOSE: Our purpose is to develop a computer ...  \n",
              "2  Accurate segmentation of COVID-19 lesions from...  "
            ]
          },
          "execution_count": 4,
          "metadata": {},
          "output_type": "execute_result"
        }
      ],
      "source": [
        "data = pd.read_csv('task_1_inference.csv')\n",
        "data.head(3)"
      ]
    },
    {
      "cell_type": "code",
      "execution_count": null,
      "metadata": {
        "id": "75I2G5gytQkq"
      },
      "outputs": [],
      "source": [
        "new_data = data[['PMID', 'Title', 'Abstract']].copy()"
      ]
    },
    {
      "cell_type": "code",
      "execution_count": null,
      "metadata": {
        "colab": {
          "base_uri": "https://localhost:8080/",
          "height": 67,
          "referenced_widgets": [
            "511f44f3149d45a6a569f33e15851939",
            "e00c622ba2434de996d5f52b4c5a8134",
            "42f04b7f86de4280b407603abd468a46",
            "e15e57353bfa4e0fa31496aeec3eb8d7",
            "f9aba24b60cd4712bc977dec93f24125",
            "4d800d8264484652840b6fd0c68fe671",
            "5b698c1c18224241a8ca2487f9888523",
            "bf364f93d4ff42559cc5910c6f4a5164",
            "adc5dc682ffd408ba60ebb9d44e5f0d1",
            "12dd4aa70695499fba5f33a14f7aa8c5",
            "0712b24d501b48198919079051ec5b90",
            "64d4f92697a64956ae931a7143f8d5f0"
          ]
        },
        "id": "JXN5aEp9okRN",
        "outputId": "1ef95392-1e5a-413c-c299-71248609b687"
      },
      "outputs": [
        {
          "data": {
            "application/vnd.jupyter.widget-view+json": {
              "model_id": "64d4f92697a64956ae931a7143f8d5f0",
              "version_major": 2,
              "version_minor": 0
            },
            "text/plain": [
              "  0%|          | 0/11450 [00:00<?, ?it/s]"
            ]
          },
          "metadata": {},
          "output_type": "display_data"
        },
        {
          "name": "stderr",
          "output_type": "stream",
          "text": [
            "You seem to be using the pipelines sequentially on GPU. In order to maximize efficiency please use a dataset\n"
          ]
        }
      ],
      "source": [
        "prompt1 = \"\"\"Classify the following research paper based on the type of method used. Choose from the categories: [\"text mining\", \"computer vision\", \"both\", \"other\"].\n",
        "\n",
        "Title: {title}\n",
        "Abstract: {abstract}\n",
        "Classification: \"\"\"\n",
        "\n",
        "prompt1_inference = inference(prompt1, new_data, batch_size=128)"
      ]
    },
    {
      "cell_type": "code",
      "execution_count": null,
      "metadata": {
        "colab": {
          "base_uri": "https://localhost:8080/",
          "referenced_widgets": [
            "7ae554f6a4234d7b8e9efd43f3730f5a"
          ]
        },
        "id": "lCQnl7VWEBOH",
        "outputId": "1e410893-4728-4d76-c125-8b53d4f8f946"
      },
      "outputs": [
        {
          "data": {
            "application/vnd.jupyter.widget-view+json": {
              "model_id": "7ae554f6a4234d7b8e9efd43f3730f5a",
              "version_major": 2,
              "version_minor": 0
            },
            "text/plain": [
              "  0%|          | 0/11450 [00:00<?, ?it/s]"
            ]
          },
          "metadata": {},
          "output_type": "display_data"
        }
      ],
      "source": [
        "prompt2 = \"\"\"Based on the title and abstract provided, determine the primary method used in this research paper. Classify it into one of the following categories: [\"text mining\", \"computer vision\", \"both\", \"other\"].\n",
        "\n",
        "Title: {title}\n",
        "Abstract: {abstract}\n",
        "Your classification is:\"\"\"\n",
        "\n",
        "prompt2_inference = inference(prompt2, new_data, batch_size=128)"
      ]
    },
    {
      "cell_type": "code",
      "execution_count": null,
      "metadata": {
        "colab": {
          "base_uri": "https://localhost:8080/",
          "referenced_widgets": [
            "a4778222ab3747e0939cbb2ca9dce234"
          ]
        },
        "id": "6XOB-KrAAD36",
        "outputId": "3be9c71b-5e1a-426e-c905-4820397da4d7"
      },
      "outputs": [
        {
          "data": {
            "application/vnd.jupyter.widget-view+json": {
              "model_id": "a4778222ab3747e0939cbb2ca9dce234",
              "version_major": 2,
              "version_minor": 0
            },
            "text/plain": [
              "  0%|          | 0/11450 [00:00<?, ?it/s]"
            ]
          },
          "metadata": {},
          "output_type": "display_data"
        }
      ],
      "source": [
        "prompt3 = \"\"\"Read the title and abstract of the following research paper and classify it according to the method used. The options are: [\"text mining\", \"computer vision\", \"both\", \"other\"]. Provide a clear classification.\n",
        "\n",
        "Title: {title}\n",
        "Abstract: {abstract}\n",
        "Classification: \"\"\"\n",
        "\n",
        "prompt3_inference = inference(prompt3, new_data, batch_size=128)"
      ]
    },
    {
      "cell_type": "code",
      "execution_count": null,
      "metadata": {
        "id": "8EEf8qAJgByU",
        "colab": {
          "referenced_widgets": [
            "4a82841938a84ff7a18360abe09279da"
          ]
        },
        "outputId": "a4bf5e42-5e43-4cae-b6de-4b39a861fa5a"
      },
      "outputs": [
        {
          "data": {
            "application/vnd.jupyter.widget-view+json": {
              "model_id": "4a82841938a84ff7a18360abe09279da",
              "version_major": 2,
              "version_minor": 0
            },
            "text/plain": [
              "  0%|          | 0/11450 [00:00<?, ?it/s]"
            ]
          },
          "metadata": {},
          "output_type": "display_data"
        }
      ],
      "source": [
        "prompt4 = \"\"\"Analyze the title and abstract below and classify them based on the type of method employed in the research. Use one of these options: [\"text mining\", \"computer vision\", \"both\", \"other\"].\n",
        "For example, if the paper discusses techniques like NLP or sentiment analysis, classify it as \"text mining\".\n",
        "\n",
        "Title: {title}\n",
        "Abstract: {abstract}\n",
        "Classification:\"\"\"\n",
        "\n",
        "\n",
        "prompt4_inference = inference(prompt4, new_data, batch_size=128)"
      ]
    },
    {
      "cell_type": "code",
      "execution_count": null,
      "metadata": {
        "id": "r_9GWWtnhiqz",
        "colab": {
          "referenced_widgets": [
            "18825aea5a2c4aa18a239e4d220cca2e"
          ]
        },
        "outputId": "62131a37-ac87-49df-d8bb-af2d108e9914"
      },
      "outputs": [
        {
          "data": {
            "application/vnd.jupyter.widget-view+json": {
              "model_id": "18825aea5a2c4aa18a239e4d220cca2e",
              "version_major": 2,
              "version_minor": 0
            },
            "text/plain": [
              "  0%|          | 0/11450 [00:00<?, ?it/s]"
            ]
          },
          "metadata": {},
          "output_type": "display_data"
        }
      ],
      "source": [
        "prompt5 = \"\"\"Classify the following title and abstract into one of these categories: [\"text mining\", \"computer vision\", \"both\", \"other\"].\n",
        "\n",
        "Title: {title}\n",
        "Abstract: {abstract}\n",
        "Result:\"\"\"\n",
        "\n",
        "prompt5_inference = inference(prompt5, new_data, batch_size=128)"
      ]
    },
    {
      "cell_type": "code",
      "execution_count": null,
      "metadata": {
        "id": "QpQ_RYjsX4Fl"
      },
      "outputs": [],
      "source": [
        "new_data['prompt1_inference'] = prompt1_inference\n",
        "new_data['prompt2_inference'] = prompt2_inference\n",
        "new_data['prompt3_inference'] = prompt3_inference\n",
        "new_data['prompt4_inference'] = prompt4_inference\n",
        "new_data['prompt5_inference'] = prompt5_inference"
      ]
    },
    {
      "cell_type": "code",
      "execution_count": null,
      "metadata": {
        "id": "PuG5W8ZkX4Fl"
      },
      "outputs": [],
      "source": [
        "# def find_label(text):\n",
        "#     if \"yes\" in text.lower():\n",
        "#         return \"yes\"\n",
        "#     elif \"no\" in text.lower():\n",
        "#         return \"no\"\n",
        "#     else:\n",
        "#         return \"not known\"\n",
        "\n",
        "# new_data['prompt1_inference_label'] = [find_label(inf) for inf in prompt1_inference]\n",
        "# new_data['prompt2_inference_label'] = [find_label(inf) for inf in prompt2_inference]\n",
        "# new_data['prompt3_inference_label'] = [find_label(inf) for inf in prompt3_inference]\n",
        "# new_data['prompt4_inference_label'] = [find_label(inf) for inf in prompt4_inference]\n",
        "# new_data['prompt5_inference_label'] = [find_label(inf) for inf in prompt5_inference]"
      ]
    },
    {
      "cell_type": "code",
      "execution_count": null,
      "metadata": {
        "id": "1Ss5so3VX4Fl"
      },
      "outputs": [],
      "source": [
        "new_data.to_csv(\"task_2_inference.csv\", index=False)"
      ]
    },
    {
      "cell_type": "code",
      "execution_count": null,
      "metadata": {
        "id": "1RRqy_RsX4Fl",
        "outputId": "5b45f5ed-9d21-4f01-8edb-ee04e8fd20af"
      },
      "outputs": [
        {
          "data": {
            "text/plain": [
              "prompt1_inference_label\n",
              "not known    9571\n",
              "yes          1194\n",
              "no            685\n",
              "Name: count, dtype: int64"
            ]
          },
          "execution_count": 41,
          "metadata": {},
          "output_type": "execute_result"
        }
      ],
      "source": [
        "new_data['prompt1_inference_label'].value_counts()"
      ]
    },
    {
      "cell_type": "code",
      "execution_count": null,
      "metadata": {
        "id": "WSkPIXAbX4Fl",
        "outputId": "5f467e2a-377e-40ea-b6e1-82a28efdefe8"
      },
      "outputs": [
        {
          "data": {
            "text/plain": [
              "prompt2_inference_label\n",
              "yes    11403\n",
              "no        47\n",
              "Name: count, dtype: int64"
            ]
          },
          "execution_count": 42,
          "metadata": {},
          "output_type": "execute_result"
        }
      ],
      "source": [
        "new_data['prompt2_inference_label'].value_counts()"
      ]
    },
    {
      "cell_type": "code",
      "execution_count": null,
      "metadata": {
        "id": "TUTgxppcX4Fm",
        "outputId": "02cc5425-9014-44a1-afa1-c2d76b1e0a5c"
      },
      "outputs": [
        {
          "data": {
            "text/plain": [
              "prompt3_inference_label\n",
              "yes          11364\n",
              "not known       44\n",
              "no              42\n",
              "Name: count, dtype: int64"
            ]
          },
          "execution_count": 43,
          "metadata": {},
          "output_type": "execute_result"
        }
      ],
      "source": [
        "new_data['prompt3_inference_label'].value_counts()"
      ]
    },
    {
      "cell_type": "code",
      "execution_count": null,
      "metadata": {
        "id": "n8qGrYyTX4Fm",
        "outputId": "36faa46a-dce0-46a2-f41d-f96acfed1f01"
      },
      "outputs": [
        {
          "data": {
            "text/plain": [
              "prompt4_inference_label\n",
              "yes          11349\n",
              "not known       98\n",
              "no               3\n",
              "Name: count, dtype: int64"
            ]
          },
          "execution_count": 44,
          "metadata": {},
          "output_type": "execute_result"
        }
      ],
      "source": [
        "new_data['prompt4_inference_label'].value_counts()"
      ]
    },
    {
      "cell_type": "code",
      "execution_count": null,
      "metadata": {
        "id": "_jg3q27HX4Fm",
        "outputId": "fa3b0597-f822-436e-c64b-dab5d6001242"
      },
      "outputs": [
        {
          "data": {
            "text/plain": [
              "prompt5_inference_label\n",
              "yes          11440\n",
              "no               6\n",
              "not known        4\n",
              "Name: count, dtype: int64"
            ]
          },
          "execution_count": 45,
          "metadata": {},
          "output_type": "execute_result"
        }
      ],
      "source": [
        "new_data['prompt5_inference_label'].value_counts()"
      ]
    },
    {
      "cell_type": "code",
      "execution_count": null,
      "metadata": {
        "id": "vEJ24QpzX4Fm"
      },
      "outputs": [],
      "source": []
    }
  ],
  "metadata": {
    "accelerator": "GPU",
    "colab": {
      "gpuType": "T4",
      "provenance": []
    },
    "kernelspec": {
      "display_name": "Python 3 (ipykernel)",
      "language": "python",
      "name": "python3"
    },
    "language_info": {
      "codemirror_mode": {
        "name": "ipython",
        "version": 3
      },
      "file_extension": ".py",
      "mimetype": "text/x-python",
      "name": "python",
      "nbconvert_exporter": "python",
      "pygments_lexer": "ipython3",
      "version": "3.9.16"
    },
    "widgets": {
      "application/vnd.jupyter.widget-state+json": {
        "0712b24d501b48198919079051ec5b90": {
          "model_module": "@jupyter-widgets/controls",
          "model_module_version": "1.5.0",
          "model_name": "DescriptionStyleModel",
          "state": {
            "_model_module": "@jupyter-widgets/controls",
            "_model_module_version": "1.5.0",
            "_model_name": "DescriptionStyleModel",
            "_view_count": null,
            "_view_module": "@jupyter-widgets/base",
            "_view_module_version": "1.2.0",
            "_view_name": "StyleView",
            "description_width": ""
          }
        },
        "12dd4aa70695499fba5f33a14f7aa8c5": {
          "model_module": "@jupyter-widgets/base",
          "model_module_version": "1.2.0",
          "model_name": "LayoutModel",
          "state": {
            "_model_module": "@jupyter-widgets/base",
            "_model_module_version": "1.2.0",
            "_model_name": "LayoutModel",
            "_view_count": null,
            "_view_module": "@jupyter-widgets/base",
            "_view_module_version": "1.2.0",
            "_view_name": "LayoutView",
            "align_content": null,
            "align_items": null,
            "align_self": null,
            "border": null,
            "bottom": null,
            "display": null,
            "flex": null,
            "flex_flow": null,
            "grid_area": null,
            "grid_auto_columns": null,
            "grid_auto_flow": null,
            "grid_auto_rows": null,
            "grid_column": null,
            "grid_gap": null,
            "grid_row": null,
            "grid_template_areas": null,
            "grid_template_columns": null,
            "grid_template_rows": null,
            "height": null,
            "justify_content": null,
            "justify_items": null,
            "left": null,
            "margin": null,
            "max_height": null,
            "max_width": null,
            "min_height": null,
            "min_width": null,
            "object_fit": null,
            "object_position": null,
            "order": null,
            "overflow": null,
            "overflow_x": null,
            "overflow_y": null,
            "padding": null,
            "right": null,
            "top": null,
            "visibility": null,
            "width": null
          }
        },
        "42f04b7f86de4280b407603abd468a46": {
          "model_module": "@jupyter-widgets/controls",
          "model_module_version": "1.5.0",
          "model_name": "FloatProgressModel",
          "state": {
            "_dom_classes": [],
            "_model_module": "@jupyter-widgets/controls",
            "_model_module_version": "1.5.0",
            "_model_name": "FloatProgressModel",
            "_view_count": null,
            "_view_module": "@jupyter-widgets/controls",
            "_view_module_version": "1.5.0",
            "_view_name": "ProgressView",
            "bar_style": "",
            "description": "",
            "description_tooltip": null,
            "layout": "IPY_MODEL_bf364f93d4ff42559cc5910c6f4a5164",
            "max": 11450,
            "min": 0,
            "orientation": "horizontal",
            "style": "IPY_MODEL_adc5dc682ffd408ba60ebb9d44e5f0d1",
            "value": 448
          }
        },
        "4d800d8264484652840b6fd0c68fe671": {
          "model_module": "@jupyter-widgets/base",
          "model_module_version": "1.2.0",
          "model_name": "LayoutModel",
          "state": {
            "_model_module": "@jupyter-widgets/base",
            "_model_module_version": "1.2.0",
            "_model_name": "LayoutModel",
            "_view_count": null,
            "_view_module": "@jupyter-widgets/base",
            "_view_module_version": "1.2.0",
            "_view_name": "LayoutView",
            "align_content": null,
            "align_items": null,
            "align_self": null,
            "border": null,
            "bottom": null,
            "display": null,
            "flex": null,
            "flex_flow": null,
            "grid_area": null,
            "grid_auto_columns": null,
            "grid_auto_flow": null,
            "grid_auto_rows": null,
            "grid_column": null,
            "grid_gap": null,
            "grid_row": null,
            "grid_template_areas": null,
            "grid_template_columns": null,
            "grid_template_rows": null,
            "height": null,
            "justify_content": null,
            "justify_items": null,
            "left": null,
            "margin": null,
            "max_height": null,
            "max_width": null,
            "min_height": null,
            "min_width": null,
            "object_fit": null,
            "object_position": null,
            "order": null,
            "overflow": null,
            "overflow_x": null,
            "overflow_y": null,
            "padding": null,
            "right": null,
            "top": null,
            "visibility": null,
            "width": null
          }
        },
        "511f44f3149d45a6a569f33e15851939": {
          "model_module": "@jupyter-widgets/controls",
          "model_module_version": "1.5.0",
          "model_name": "HBoxModel",
          "state": {
            "_dom_classes": [],
            "_model_module": "@jupyter-widgets/controls",
            "_model_module_version": "1.5.0",
            "_model_name": "HBoxModel",
            "_view_count": null,
            "_view_module": "@jupyter-widgets/controls",
            "_view_module_version": "1.5.0",
            "_view_name": "HBoxView",
            "box_style": "",
            "children": [
              "IPY_MODEL_e00c622ba2434de996d5f52b4c5a8134",
              "IPY_MODEL_42f04b7f86de4280b407603abd468a46",
              "IPY_MODEL_e15e57353bfa4e0fa31496aeec3eb8d7"
            ],
            "layout": "IPY_MODEL_f9aba24b60cd4712bc977dec93f24125"
          }
        },
        "5b698c1c18224241a8ca2487f9888523": {
          "model_module": "@jupyter-widgets/controls",
          "model_module_version": "1.5.0",
          "model_name": "DescriptionStyleModel",
          "state": {
            "_model_module": "@jupyter-widgets/controls",
            "_model_module_version": "1.5.0",
            "_model_name": "DescriptionStyleModel",
            "_view_count": null,
            "_view_module": "@jupyter-widgets/base",
            "_view_module_version": "1.2.0",
            "_view_name": "StyleView",
            "description_width": ""
          }
        },
        "adc5dc682ffd408ba60ebb9d44e5f0d1": {
          "model_module": "@jupyter-widgets/controls",
          "model_module_version": "1.5.0",
          "model_name": "ProgressStyleModel",
          "state": {
            "_model_module": "@jupyter-widgets/controls",
            "_model_module_version": "1.5.0",
            "_model_name": "ProgressStyleModel",
            "_view_count": null,
            "_view_module": "@jupyter-widgets/base",
            "_view_module_version": "1.2.0",
            "_view_name": "StyleView",
            "bar_color": null,
            "description_width": ""
          }
        },
        "bf364f93d4ff42559cc5910c6f4a5164": {
          "model_module": "@jupyter-widgets/base",
          "model_module_version": "1.2.0",
          "model_name": "LayoutModel",
          "state": {
            "_model_module": "@jupyter-widgets/base",
            "_model_module_version": "1.2.0",
            "_model_name": "LayoutModel",
            "_view_count": null,
            "_view_module": "@jupyter-widgets/base",
            "_view_module_version": "1.2.0",
            "_view_name": "LayoutView",
            "align_content": null,
            "align_items": null,
            "align_self": null,
            "border": null,
            "bottom": null,
            "display": null,
            "flex": null,
            "flex_flow": null,
            "grid_area": null,
            "grid_auto_columns": null,
            "grid_auto_flow": null,
            "grid_auto_rows": null,
            "grid_column": null,
            "grid_gap": null,
            "grid_row": null,
            "grid_template_areas": null,
            "grid_template_columns": null,
            "grid_template_rows": null,
            "height": null,
            "justify_content": null,
            "justify_items": null,
            "left": null,
            "margin": null,
            "max_height": null,
            "max_width": null,
            "min_height": null,
            "min_width": null,
            "object_fit": null,
            "object_position": null,
            "order": null,
            "overflow": null,
            "overflow_x": null,
            "overflow_y": null,
            "padding": null,
            "right": null,
            "top": null,
            "visibility": null,
            "width": null
          }
        },
        "e00c622ba2434de996d5f52b4c5a8134": {
          "model_module": "@jupyter-widgets/controls",
          "model_module_version": "1.5.0",
          "model_name": "HTMLModel",
          "state": {
            "_dom_classes": [],
            "_model_module": "@jupyter-widgets/controls",
            "_model_module_version": "1.5.0",
            "_model_name": "HTMLModel",
            "_view_count": null,
            "_view_module": "@jupyter-widgets/controls",
            "_view_module_version": "1.5.0",
            "_view_name": "HTMLView",
            "description": "",
            "description_tooltip": null,
            "layout": "IPY_MODEL_4d800d8264484652840b6fd0c68fe671",
            "placeholder": "​",
            "style": "IPY_MODEL_5b698c1c18224241a8ca2487f9888523",
            "value": "  4%"
          }
        },
        "e15e57353bfa4e0fa31496aeec3eb8d7": {
          "model_module": "@jupyter-widgets/controls",
          "model_module_version": "1.5.0",
          "model_name": "HTMLModel",
          "state": {
            "_dom_classes": [],
            "_model_module": "@jupyter-widgets/controls",
            "_model_module_version": "1.5.0",
            "_model_name": "HTMLModel",
            "_view_count": null,
            "_view_module": "@jupyter-widgets/controls",
            "_view_module_version": "1.5.0",
            "_view_name": "HTMLView",
            "description": "",
            "description_tooltip": null,
            "layout": "IPY_MODEL_12dd4aa70695499fba5f33a14f7aa8c5",
            "placeholder": "​",
            "style": "IPY_MODEL_0712b24d501b48198919079051ec5b90",
            "value": " 448/11450 [05:38&lt;2:15:52,  1.35it/s]"
          }
        },
        "f9aba24b60cd4712bc977dec93f24125": {
          "model_module": "@jupyter-widgets/base",
          "model_module_version": "1.2.0",
          "model_name": "LayoutModel",
          "state": {
            "_model_module": "@jupyter-widgets/base",
            "_model_module_version": "1.2.0",
            "_model_name": "LayoutModel",
            "_view_count": null,
            "_view_module": "@jupyter-widgets/base",
            "_view_module_version": "1.2.0",
            "_view_name": "LayoutView",
            "align_content": null,
            "align_items": null,
            "align_self": null,
            "border": null,
            "bottom": null,
            "display": null,
            "flex": null,
            "flex_flow": null,
            "grid_area": null,
            "grid_auto_columns": null,
            "grid_auto_flow": null,
            "grid_auto_rows": null,
            "grid_column": null,
            "grid_gap": null,
            "grid_row": null,
            "grid_template_areas": null,
            "grid_template_columns": null,
            "grid_template_rows": null,
            "height": null,
            "justify_content": null,
            "justify_items": null,
            "left": null,
            "margin": null,
            "max_height": null,
            "max_width": null,
            "min_height": null,
            "min_width": null,
            "object_fit": null,
            "object_position": null,
            "order": null,
            "overflow": null,
            "overflow_x": null,
            "overflow_y": null,
            "padding": null,
            "right": null,
            "top": null,
            "visibility": null,
            "width": null
          }
        }
      }
    }
  },
  "nbformat": 4,
  "nbformat_minor": 0
}